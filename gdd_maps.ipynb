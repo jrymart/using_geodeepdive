{
 "cells": [
  {
   "cell_type": "code",
   "execution_count": null,
   "id": "b4214215-3de3-4c31-a277-ae8ead8073f5",
   "metadata": {},
   "outputs": [],
   "source": [
    "import requests\n",
    "import csv"
   ]
  },
  {
   "cell_type": "markdown",
   "id": "ce9824f0-bd24-4023-9e23-bd975edd75b8",
   "metadata": {},
   "source": [
    "## Functions for getting data From GeoDeepDive\n",
    "The `get_units` function takes a GeoDeepDive API call (designed for one that searches for a term and returns known stratigraphic names).  It makes the call, and then pulls out the stratigraphic names.  For each paper that references only one stratigraphic name it then calls the Macrostrat API to get the location of that unit.  Assuming it can find the unit in Macrostrat, it adds the unit name and location to a list.  If the GeoDeepDive API call includes the `full_results` option, it should recurse to the next page until all pages have been visited."
   ]
  },
  {
   "cell_type": "code",
   "execution_count": null,
   "id": "8f96d7dc-8ef1-4e36-9492-0d5b9ddbffad",
   "metadata": {},
   "outputs": [],
   "source": [
    "def get_units(url,geo_units=[], failed_units=[]):\n",
    "    print(\"so far, got %d units and failed %d times\" % (len(geo_units), len(failed_units)))\n",
    "    response = requests.get(url)\n",
    "    data = response.json()\n",
    "    papers = data['success']['data']\n",
    "    one_unit_papers = [paper for paper in papers if len(paper['known_terms'])==1 and len(paper['known_terms'][0]['stratigraphic_names'])==1]\n",
    "    units = [paper['known_terms'][0]['stratigraphic_names'][0] for paper in one_unit_papers]\n",
    "    for unit in units:\n",
    "        unit_response=requests.get(\"https://macrostrat.org/api/units?strat_name=%s&format=geojson\" % unit)\n",
    "        unit_data = unit_response.json()\n",
    "        try:\n",
    "            feature=unit_data['success']['data']['features'][0]\n",
    "            geo_unit = {'unit_name'    : feature['properties']['unit_name'],\n",
    "                        'unit_id'      : feature['properties']['unit_id'],\n",
    "                        'strat_name_id': feature['properties']['strat_name_id'],\n",
    "                        'lat'          : feature['geometry']['coordinates'][1],\n",
    "                        'long'         : feature['geometry']['coordinates'][0]}\n",
    "            geo_units.append(geo_unit)\n",
    "        except (IndexError, KeyError, TypeError) as err:\n",
    "            failed_units.append((unit, err))\n",
    "    try:\n",
    "        new_url=data['success']['next_page']\n",
    "        if len(new_url)>0:\n",
    "            get_units(new_url, geo_units, failed_units)\n",
    "    except KeyError:\n",
    "        return (geo_units, failed_units)\n",
    "    return (geo_units, failed_units)"
   ]
  },
  {
   "cell_type": "code",
   "execution_count": 2,
   "id": "2ecbc937-db54-406c-a00c-b62fe20c16c9",
   "metadata": {},
   "outputs": [],
   "source": [
    "#wrapper function to construct the API call\n",
    "def get_keyword_units(keyword, geo_units=[], failed_units=[]):\n",
    "    url = \"https://geodeepdive.org/api/snippets?term=%s&dict_filter=stratigraphic_names&dict=stratigraphic_names&full_results\" % keyword\n",
    "    return get_units(url, geo_units, failed_units)"
   ]
  },
  {
   "cell_type": "code",
   "execution_count": 3,
   "id": "8d51ba9f-6f03-463a-9b67-d1b0c3268ee4",
   "metadata": {},
   "outputs": [],
   "source": [
    "#writes the data to CSVs for future plotting\n",
    "def write_units(unit_pair, file_name_term):\n",
    "    data_file_name = \"%s_units.csv\" % file_name_term\n",
    "    failed_file_name = \"%s_units_unfindable.csv\" % file_name_term\n",
    "    units_file = open(data_file_name, 'w')\n",
    "    writer = csv.DictWriter(units_file, fieldnames=unit_pair[0][0].keys())\n",
    "    writer.writeheader()\n",
    "    writer.writerows(unit_pair[0])\n",
    "    units_file.close\n",
    "    failed_file = open(failed_file_name, 'w')\n",
    "    writer=csv.writer(failed_file)\n",
    "    writer.writerow([\"unit\", \"failure reason\"])\n",
    "    writer.writerows(unit_pair[1])\n",
    "    failed_file.close()"
   ]
  },
  {
   "cell_type": "markdown",
   "id": "fa1b8cb9-0461-4716-89cf-227f6d16e455",
   "metadata": {},
   "source": [
    "## Functions for plotting data from GeoDeepDive\n",
    "This assumes you have two tables of stratigraphic units, each representing the endmember of a range of values.  The two tables are merged, with the units from the table representing the \"high\" endmember getting a value of 1, the \"low\" endmember getting a value of -1, and units in both tables getting a value of 0"
   ]
  },
  {
   "cell_type": "code",
   "execution_count": null,
   "id": "c6163f76-bb91-4102-9a7a-fd4171306bad",
   "metadata": {},
   "outputs": [],
   "source": [
    "def merge_tables(low_table, high_table, value_key, unit_key='unit_name'):\n",
    "    all_units = pd.concat([low_table, high_table]).drop_duplicates()\n",
    "    all_units[value_key]=0\n",
    "    all_units.loc[all_units[unit_key].isin(high_table[unit_key]), value_key] += 1\n",
    "    all_units.loc[all_units[unit_key].isin(low_table[unit_key]), value_key] += -1\n",
    "    return all_units\n",
    "\n",
    "def plot_units(unit_table, basemap, value_key, x_key='long', y_key='lat'):\n",
    "    unit_geometry = [Point(xy) for xy in zip(unit_table['long'], unit_table['lat'])]\n",
    "    unit_geotable = GeoDataFrame(unit_table, geometry=unit_geometry)\n",
    "    unit_geotable = unit_geotable.set_crs(\"EPSG:4326\").clip(basemap)\n",
    "    fig, ax = plt.subplots(figsize=(12, 8))\n",
    "    basemap.plot(ax=ax)\n",
    "    unit_geotable.plot(ax=ax, marker='o', column=value_key, markersize=15, legend=True)"
   ]
  },
  {
   "cell_type": "markdown",
   "id": "a13f2f78-726f-4dbe-895f-506ead404212",
   "metadata": {},
   "source": [
    "### Get and write (assumed to be) porous units"
   ]
  },
  {
   "cell_type": "code",
   "execution_count": null,
   "id": "7cb2eb04-77d6-4489-aedd-06e4b131108a",
   "metadata": {},
   "outputs": [],
   "source": [
    "porous_units = []\n",
    "pfailed_units = []\n",
    "porous_unit_info = get_keyword_units(\"highly porous\", porous_units, pfailed_units)\n",
    "write_units(porous_unit_info, \"porous\")"
   ]
  },
  {
   "cell_type": "markdown",
   "id": "fa4a0823-4fea-4b6c-8307-78a4775678cf",
   "metadata": {},
   "source": [
    "### Get and write (assumed to be) impervious units"
   ]
  },
  {
   "cell_type": "code",
   "execution_count": null,
   "id": "9bd165a1-dd5b-4cdd-8eca-b299bdf770d7",
   "metadata": {},
   "outputs": [],
   "source": [
    "imperm_units = []\n",
    "ipfailed_units = []\n",
    "imperm_unit_info = get_keyword_units(\"impermeable\", imperm_units, ipfailed_units)\n",
    "write_units(imperm_unit_info, \"impermeable\")"
   ]
  },
  {
   "cell_type": "markdown",
   "id": "9a054a73-3857-42c5-9b75-e564e838b5a9",
   "metadata": {},
   "source": [
    "### Plot porous/impervious units"
   ]
  },
  {
   "cell_type": "code",
   "execution_count": null,
   "id": "e66d4435-0680-42a3-b6b3-1d7653d0feba",
   "metadata": {},
   "outputs": [],
   "source": []
  }
 ],
 "metadata": {
  "kernelspec": {
   "display_name": "Python 3 (ipykernel)",
   "language": "python",
   "name": "python3"
  },
  "language_info": {
   "codemirror_mode": {
    "name": "ipython",
    "version": 3
   },
   "file_extension": ".py",
   "mimetype": "text/x-python",
   "name": "python",
   "nbconvert_exporter": "python",
   "pygments_lexer": "ipython3",
   "version": "3.11.3"
  }
 },
 "nbformat": 4,
 "nbformat_minor": 5
}
